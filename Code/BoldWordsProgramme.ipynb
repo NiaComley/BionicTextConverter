{
  "nbformat": 4,
  "nbformat_minor": 0,
  "metadata": {
    "colab": {
      "provenance": []
    },
    "kernelspec": {
      "name": "python3",
      "display_name": "Python 3"
    },
    "language_info": {
      "name": "python"
    }
  },
  "cells": [
    {
      "cell_type": "markdown",
      "source": [
        "#Word docs\n",
        "Please note that if you have pictures in your documents, this code will remove them entirely when producing the output documents."
      ],
      "metadata": {
        "id": "NAsRJngTpgJk"
      }
    },
    {
      "cell_type": "code",
      "execution_count": 1,
      "metadata": {
        "colab": {
          "base_uri": "https://localhost:8080/"
        },
        "id": "G1z_rc9yfyQ3",
        "outputId": "7367d290-e910-437f-a752-319f620716e6"
      },
      "outputs": [
        {
          "output_type": "stream",
          "name": "stdout",
          "text": [
            "Looking in indexes: https://pypi.org/simple, https://us-python.pkg.dev/colab-wheels/public/simple/\n",
            "Requirement already satisfied: python-docx in /usr/local/lib/python3.8/dist-packages (0.8.11)\n",
            "Requirement already satisfied: lxml>=2.3.2 in /usr/local/lib/python3.8/dist-packages (from python-docx) (4.9.2)\n"
          ]
        }
      ],
      "source": [
        "!pip install python-docx \n",
        "import docx"
      ]
    },
    {
      "cell_type": "code",
      "source": [
        "# Open the input Word document\n",
        "input_doc = docx.Document(\"/content/ADHD Test document.docx\") #Add your file path here\n",
        "\n",
        "# Create a new Word document to store the amended words\n",
        "output_doc = docx.Document()\n",
        "\n",
        "# Loop through each paragraph in the input document\n",
        "for paragraph in input_doc.paragraphs:\n",
        "\n",
        "    # Create a new paragraph in the output document\n",
        "    output_paragraph = output_doc.add_paragraph()\n",
        "\n",
        "    # Loop through each run in the input paragraph\n",
        "    for run in paragraph.runs:\n",
        "\n",
        "        # Split the run text into individual words\n",
        "        words = run.text.split()\n",
        "\n",
        "        # Loop through each word and bold the first half\n",
        "        for word in words:\n",
        "            half_len = len(word) // 2\n",
        "            output_run = output_paragraph.add_run()\n",
        "            output_run.text = word[:half_len]\n",
        "            output_run.bold = True\n",
        "            output_run = output_paragraph.add_run()\n",
        "            output_run.text = word[half_len:] + ' '\n",
        "\n",
        "        # Add a space character after the run\n",
        "        output_paragraph.add_run(' ')\n",
        "\n",
        "    # Add a new line after the paragraph\n",
        "    output_doc.add_paragraph()\n",
        "\n",
        "# Name output file\n",
        "output_name = input('Please input name of output file: ') \n",
        "# Save the output document\n",
        "output_doc.save(output_name+\".docx\")\n"
      ],
      "metadata": {
        "colab": {
          "base_uri": "https://localhost:8080/"
        },
        "id": "J3iU0mp5mywd",
        "outputId": "cd317ef6-5e98-47f0-d667-b69f7001a9b4"
      },
      "execution_count": 30,
      "outputs": [
        {
          "name": "stdout",
          "output_type": "stream",
          "text": [
            "Please input name of output file:ADHD Output\n"
          ]
        }
      ]
    },
    {
      "cell_type": "markdown",
      "source": [
        "#Google docs (needs testing)"
      ],
      "metadata": {
        "id": "oi365NH8pi4h"
      }
    },
    {
      "cell_type": "code",
      "source": [
        "import io\n",
        "import os\n",
        "\n",
        "from google.oauth2 import service_account\n",
        "from googleapiclient.discovery import build\n",
        "from googleapiclient.http import MediaIoBaseDownload, MediaFileUpload\n",
        "\n",
        "import docx\n",
        "\n",
        "# Set up the Google Drive API client\n",
        "SCOPES = ['https://www.googleapis.com/auth/drive']\n",
        "SERVICE_ACCOUNT_FILE = 'service_account.json'\n",
        "creds = None\n",
        "creds = service_account.Credentials.from_service_account_file(\n",
        "        SERVICE_ACCOUNT_FILE, scopes=SCOPES)\n",
        "service = build('drive', 'v3', credentials=creds)\n",
        "\n",
        "# ID of the Google Doc you want to modify\n",
        "doc_id = 'YOUR_GOOGLE_DOC_ID_HERE'\n",
        "\n",
        "# Download the Google Doc as a Word document\n",
        "file_id = service.files().export(fileId=doc_id, mimeType='application/vnd.openxmlformats-officedocument.wordprocessingml.document').execute().get('id')\n",
        "request = service.files().get_media(fileId=file_id)\n",
        "fh = io.BytesIO()\n",
        "downloader = MediaIoBaseDownload(fh, request)\n",
        "done = False\n",
        "while done is False:\n",
        "    status, done = downloader.next_chunk()\n",
        "    print(f'Download {int(status.progress() * 100)}.')\n",
        "fh.seek(0)\n",
        "\n",
        "# Open the Word document\n",
        "input_doc = docx.Document(fh)\n",
        "\n",
        "# Create a new Word document to store the amended words\n",
        "output_doc = docx.Document()\n",
        "\n",
        "# Loop through each paragraph in the input document\n",
        "for paragraph in input_doc.paragraphs:\n",
        "\n",
        "    # Create a new paragraph in the output document\n",
        "    output_paragraph = output_doc.add_paragraph()\n",
        "\n",
        "    # Loop through each run in the input paragraph\n",
        "    for run in paragraph.runs:\n",
        "\n",
        "        # Split the run text into individual words\n",
        "        words = run.text.split()\n",
        "\n",
        "        # Loop through each word and bold the first half\n",
        "        for word in words:\n",
        "            half_len = len(word) // 2\n",
        "            output_run = output_paragraph.add_run()\n",
        "            output_run.text = word[:half_len]\n",
        "            output_run.bold = True\n",
        "            output_run = output_paragraph.add_run()\n",
        "            output_run.text = word[half_len:] + ' '\n",
        "\n",
        "        # Add a space character after the run\n",
        "        output_paragraph.add_run(' ')\n",
        "\n",
        "    # Add a new line after the paragraph\n",
        "    output_doc.add_paragraph()\n",
        "\n",
        "# Save the output document to a file\n",
        "output_doc.save('output.docx')\n",
        "\n",
        "# Upload the modified Word document back to Google Drive\n",
        "file_metadata = {'name': 'output.docx', 'parents': [doc_id]}\n",
        "media = MediaFileUpload('output.docx', mimetype='application/vnd.openxmlformats-officedocument.wordprocessing')\n"
      ],
      "metadata": {
        "id": "8H2r-lfepluC"
      },
      "execution_count": null,
      "outputs": []
    }
  ]
}